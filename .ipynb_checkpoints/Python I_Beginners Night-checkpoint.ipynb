{
 "cells": [
  {
   "cell_type": "code",
   "execution_count": 35,
   "metadata": {},
   "outputs": [
    {
     "data": {
      "text/plain": [
       "'\\nThis module will cover basic data types, the print function, storing variables, and strings.\\nThe ultimate goal is to write a script to print \"hello world\"\\n'"
      ]
     },
     "execution_count": 35,
     "metadata": {},
     "output_type": "execute_result"
    }
   ],
   "source": [
    "##\n",
    "##This module will cover basic data types, the print function, and storing variables.\n",
    "##The ultimate goal is to write a script to print \"hello world\" in two ways\n",
    "## bitch"
   ]
  },
  {
   "cell_type": "code",
   "execution_count": 36,
   "metadata": {},
   "outputs": [
    {
     "data": {
      "text/plain": [
       "int"
      ]
     },
     "execution_count": 36,
     "metadata": {},
     "output_type": "execute_result"
    }
   ],
   "source": [
    "##First, we'll talk data types. Python has five standard data types.\n",
    "##For now, we will stick to numbers and strings. \n",
    "\n",
    "#Let's start with numbers. Most of us will only use integers, and floating\n",
    "#point real numbers. \n",
    "\n",
    "#An integer is any number without decimals. Python refers to integers as \"int\"\n",
    "\n",
    "#A floating point value allows decimals. Python refers to floating point values as \"float\"\n",
    "\n",
    "#You can check the type of a value using the type() function:\n",
    "\n",
    "type(41)"
   ]
  },
  {
   "cell_type": "code",
   "execution_count": 37,
   "metadata": {},
   "outputs": [
    {
     "data": {
      "text/plain": [
       "float"
      ]
     },
     "execution_count": 37,
     "metadata": {},
     "output_type": "execute_result"
    }
   ],
   "source": [
    "type(3.14)"
   ]
  },
  {
   "cell_type": "code",
   "execution_count": 38,
   "metadata": {},
   "outputs": [
    {
     "data": {
      "text/plain": [
       "'single quote'"
      ]
     },
     "execution_count": 38,
     "metadata": {},
     "output_type": "execute_result"
    }
   ],
   "source": [
    "#We will also use strings, which are characters enclosed by quotes. \n",
    "#you can use a single quote, double quotes, or triple quotes:\n",
    "\n",
    "'single quote'"
   ]
  },
  {
   "cell_type": "code",
   "execution_count": 39,
   "metadata": {},
   "outputs": [
    {
     "data": {
      "text/plain": [
       "'double quote'"
      ]
     },
     "execution_count": 39,
     "metadata": {},
     "output_type": "execute_result"
    }
   ],
   "source": [
    "\"double quote\""
   ]
  },
  {
   "cell_type": "code",
   "execution_count": 40,
   "metadata": {},
   "outputs": [
    {
     "data": {
      "text/plain": [
       "'triple quote'"
      ]
     },
     "execution_count": 40,
     "metadata": {},
     "output_type": "execute_result"
    }
   ],
   "source": [
    "\"\"\"triple quote\"\"\""
   ]
  },
  {
   "cell_type": "code",
   "execution_count": 41,
   "metadata": {},
   "outputs": [
    {
     "data": {
      "text/plain": [
       "str"
      ]
     },
     "execution_count": 41,
     "metadata": {},
     "output_type": "execute_result"
    }
   ],
   "source": [
    "##you can use the type() function to check strings as well.\n",
    "\n",
    "type(\"Hello\")"
   ]
  },
  {
   "cell_type": "code",
   "execution_count": 42,
   "metadata": {},
   "outputs": [
    {
     "data": {
      "text/plain": [
       "str"
      ]
     },
     "execution_count": 42,
     "metadata": {},
     "output_type": "execute_result"
    }
   ],
   "source": [
    "#numbers can also be strings.\n",
    "\n",
    "type(\"123\")"
   ]
  },
  {
   "cell_type": "code",
   "execution_count": 43,
   "metadata": {},
   "outputs": [
    {
     "name": "stdout",
     "output_type": "stream",
     "text": [
      "123\n"
     ]
    }
   ],
   "source": [
    "##next, let's familiarize ourselves with the print function. In most compilers, it's the only way to see your output\n",
    "##actually see your output\n",
    "\n",
    "##with numbers, it's as simple as:\n",
    "print(123)"
   ]
  },
  {
   "cell_type": "code",
   "execution_count": 44,
   "metadata": {
    "scrolled": true
   },
   "outputs": [
    {
     "name": "stdout",
     "output_type": "stream",
     "text": [
      "3\n"
     ]
    }
   ],
   "source": [
    "##You can also perform operations within the print function:\n",
    "print(1+2)"
   ]
  },
  {
   "cell_type": "code",
   "execution_count": 45,
   "metadata": {},
   "outputs": [],
   "source": [
    "##Try printing your own operation below:\n",
    "\n",
    "##your code here"
   ]
  },
  {
   "cell_type": "code",
   "execution_count": 46,
   "metadata": {},
   "outputs": [
    {
     "name": "stdout",
     "output_type": "stream",
     "text": [
      "I am a line\n"
     ]
    }
   ],
   "source": [
    "#To print a string, you simply need to include the quotation marks.\n",
    "print(\"I am a line\")"
   ]
  },
  {
   "cell_type": "code",
   "execution_count": 47,
   "metadata": {},
   "outputs": [
    {
     "name": "stdout",
     "output_type": "stream",
     "text": [
      "I am one sentence. I am another sentence.\n"
     ]
    }
   ],
   "source": [
    "#much like with numbers, you can print two strings together:\n",
    "print(\"I am one sentence. \" + \"I am another sentence.\")"
   ]
  },
  {
   "cell_type": "code",
   "execution_count": 48,
   "metadata": {},
   "outputs": [],
   "source": [
    "##Now that we are comfortable with the print function, let's examine variables.\n",
    "##Variables can be thought of as a name attached to a particular value. The beauty\n",
    "##of python specifically is that you don't need to declare variables in advance. \n",
    "##to create a variable, all you need to do is assign a value with the equals sign.\n",
    "\n",
    "#let's assign the value 5 to variable n:\n",
    "n = 5"
   ]
  },
  {
   "cell_type": "code",
   "execution_count": 49,
   "metadata": {},
   "outputs": [
    {
     "name": "stdout",
     "output_type": "stream",
     "text": [
      "5\n",
      "5\n"
     ]
    }
   ],
   "source": [
    "#Now, we have two ways to print 5:\n",
    "print(5)\n",
    "#or\n",
    "print(n)"
   ]
  },
  {
   "cell_type": "code",
   "execution_count": 50,
   "metadata": {},
   "outputs": [
    {
     "name": "stdout",
     "output_type": "stream",
     "text": [
      "14\n"
     ]
    }
   ],
   "source": [
    "#We can also reassign n to a new value.\n",
    "n = 14\n",
    "print(n)\n"
   ]
  },
  {
   "cell_type": "code",
   "execution_count": 51,
   "metadata": {},
   "outputs": [
    {
     "name": "stdout",
     "output_type": "stream",
     "text": [
      "500 500 500\n"
     ]
    }
   ],
   "source": [
    "#Python also allows chained assignment, so we can assign\n",
    "#The same value to several variables at once!\n",
    "\n",
    "a = b = c = 500\n",
    "print(a, b, c)"
   ]
  },
  {
   "cell_type": "code",
   "execution_count": 52,
   "metadata": {},
   "outputs": [
    {
     "name": "stdout",
     "output_type": "stream",
     "text": [
      "Hello, I am a string\n"
     ]
    }
   ],
   "source": [
    "#You can also assign strings to variables. \n",
    "\n",
    "val = \"Hello, I am a string\"\n",
    "\n",
    "print(val)\n"
   ]
  },
  {
   "cell_type": "code",
   "execution_count": 53,
   "metadata": {},
   "outputs": [
    {
     "name": "stdout",
     "output_type": "stream",
     "text": [
      "<class 'int'>\n",
      "<class 'str'>\n"
     ]
    }
   ],
   "source": [
    "##Now we can get into the magic of python. In most programming languages, once a variable is assigned to a particular data\n",
    "##type, it is stuck there forever, unless you declare it again. With python, variable data types are dynamic.\n",
    "\n",
    "var = 23\n",
    "print(type(var))\n",
    "var = \"string bean\"\n",
    "print(type(var))"
   ]
  },
  {
   "cell_type": "code",
   "execution_count": 54,
   "metadata": {},
   "outputs": [
    {
     "data": {
      "text/plain": [
       "str"
      ]
     },
     "execution_count": 54,
     "metadata": {},
     "output_type": "execute_result"
    }
   ],
   "source": [
    "##you can also change the data type of a variable without changing the actual value.\n",
    "\n",
    "x = 5\n",
    "x = str(x)\n",
    "type(x)"
   ]
  },
  {
   "cell_type": "code",
   "execution_count": 55,
   "metadata": {},
   "outputs": [],
   "source": [
    "#Now it's time to practice. Try printing \"Hello World\" without using variables\n",
    "\n",
    "##your code here"
   ]
  },
  {
   "cell_type": "code",
   "execution_count": 56,
   "metadata": {},
   "outputs": [],
   "source": [
    "#Next, try assigning 'hello world' to a variable, and print the variable\n",
    "\n",
    "##your code here"
   ]
  },
  {
   "cell_type": "code",
   "execution_count": 57,
   "metadata": {},
   "outputs": [],
   "source": [
    "#Congratulations, you've finished your first class and you are well on your way to becoming a python queen!"
   ]
  }
 ],
 "metadata": {
  "kernelspec": {
   "display_name": "Python 3",
   "language": "python",
   "name": "python3"
  },
  "language_info": {
   "codemirror_mode": {
    "name": "ipython",
    "version": 3
   },
   "file_extension": ".py",
   "mimetype": "text/x-python",
   "name": "python",
   "nbconvert_exporter": "python",
   "pygments_lexer": "ipython3",
   "version": "3.7.3"
  }
 },
 "nbformat": 4,
 "nbformat_minor": 2
}
