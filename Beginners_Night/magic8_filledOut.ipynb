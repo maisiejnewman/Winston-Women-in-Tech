{
 "cells": [
  {
   "cell_type": "markdown",
   "metadata": {},
   "source": [
    "### First, some preliminaries...\n",
    "\n",
    "1. Give your program a name by clicking on 'Untitled'\n",
    "2. let's talk about leaving comments in your code"
   ]
  },
  {
   "cell_type": "code",
   "execution_count": null,
   "metadata": {},
   "outputs": [],
   "source": [
    "# The pound sign comments out a line of code--anything you put on this line won't be run"
   ]
  },
  {
   "cell_type": "code",
   "execution_count": null,
   "metadata": {},
   "outputs": [],
   "source": [
    "\n",
    "\"\"\"\n",
    "You can use triple quotation marks for\n",
    "multi\n",
    "line\n",
    "comments as well. \n",
    "Your code won't have problems BUT...this comment is technically a string.\n",
    "Triple quotation marks get used for other purposes in python as well\n",
    "\"\"\""
   ]
  },
  {
   "cell_type": "markdown",
   "metadata": {},
   "source": [
    "### Before we do any real coding, we need to import any python packages we will need."
   ]
  },
  {
   "cell_type": "code",
   "execution_count": null,
   "metadata": {},
   "outputs": [],
   "source": [
    "import random"
   ]
  },
  {
   "cell_type": "markdown",
   "metadata": {},
   "source": [
    "### Think of some magic 8 ball responses!\n",
    "\n",
    "We want to create a list of possible magic 8 ball responses. The beautiful thing about python is that we don't have to declare a list before we make it."
   ]
  },
  {
   "cell_type": "code",
   "execution_count": null,
   "metadata": {},
   "outputs": [],
   "source": [
    "# Brackets denote a list here\n",
    "responses = ['Yes', 'No', 'Outlook Great', 'Try again', 'No way']"
   ]
  },
  {
   "cell_type": "markdown",
   "metadata": {},
   "source": [
    "### Now, let's outline the basic structure\n",
    "Goal: Ask a the magic 8 ball a question, get a random answer returned"
   ]
  },
  {
   "cell_type": "code",
   "execution_count": null,
   "metadata": {},
   "outputs": [],
   "source": [
    "# Prompt the user for a question\n",
    "q = input(\"What question do you have for the magic 8 ball: \")\n",
    "#Generate \n",
    "upper_limit = len(responses)-1\n",
    "a_index = random.randint(0, upper_limit) #indices in python go 0, 1, ..., length(list/string)-1\n",
    "answer = responses[a_index] #in this context, brackets indicate indexing\n",
    "print(\"The magic 8 ball returns your fortune...\" + answer)"
   ]
  },
  {
   "cell_type": "markdown",
   "metadata": {},
   "source": [
    "### Great! But what if you want to ask the magic 8 ball more than one question?\n",
    "\n",
    "Maybe you have many questions for the great magic 8 ball, and you don't want to run the cell every time. Let's add a while-loop."
   ]
  },
  {
   "cell_type": "code",
   "execution_count": null,
   "metadata": {},
   "outputs": [],
   "source": [
    "q = input(\"What question do you have for the magic 8 ball: \")\n",
    "\n",
    "while q != 'exit':\n",
    "    upper_limit = len(responses)-1\n",
    "    a_index = random.randint(0, upper_limit) #indices in python go 0, 1, ..., length(list/string)-1\n",
    "    answer = responses[a_index] #in this context, brackets indicate indexing\n",
    "    print(\"The magic 8 ball returns your fortune...\" + answer)\n",
    "    q = input(\"What question do you have for the magic 8 ball: \") #put this here to ask a new question"
   ]
  },
  {
   "cell_type": "code",
   "execution_count": null,
   "metadata": {},
   "outputs": [],
   "source": []
  }
 ],
 "metadata": {
  "kernelspec": {
   "display_name": "Python 3",
   "language": "python",
   "name": "python3"
  },
  "language_info": {
   "codemirror_mode": {
    "name": "ipython",
    "version": 3
   },
   "file_extension": ".py",
   "mimetype": "text/x-python",
   "name": "python",
   "nbconvert_exporter": "python",
   "pygments_lexer": "ipython3",
   "version": "3.6.4"
  }
 },
 "nbformat": 4,
 "nbformat_minor": 2
}
